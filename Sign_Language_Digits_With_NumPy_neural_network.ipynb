{
  "nbformat": 4,
  "nbformat_minor": 0,
  "metadata": {
    "colab": {
      "provenance": [],
      "include_colab_link": true
    },
    "kernelspec": {
      "name": "python3",
      "display_name": "Python 3"
    },
    "language_info": {
      "name": "python"
    },
    "accelerator": "GPU"
  },
  "cells": [
    {
      "cell_type": "markdown",
      "metadata": {
        "id": "view-in-github",
        "colab_type": "text"
      },
      "source": [
        "<a href=\"https://colab.research.google.com/github/Ofigu/Sign-Language-Digits-Neural-Network/blob/main/Sign_Language_Digits_With_NumPy_neural_network.ipynb\" target=\"_parent\"><img src=\"https://colab.research.google.com/assets/colab-badge.svg\" alt=\"Open In Colab\"/></a>"
      ]
    },
    {
      "cell_type": "markdown",
      "source": [
        "# Mid-semester assignment Part 1 - Basics of deep learning\n",
        "Hello dear students,<br> this is the template notebook. Please copy it into your drive and open as Google Colab nootebook\".\n",
        "\n",
        "---\n",
        "<br>\n",
        "\n",
        "### Name and ID:\n",
        "Student 1: Ofir Almog 207918731\n",
        "<br>\n",
        "Student 2: Adir Edri 206991762"
      ],
      "metadata": {
        "collapsed": false,
        "pycharm": {
          "name": "#%% md\n"
        },
        "id": "XDDbguyGU8Fs"
      }
    },
    {
      "cell_type": "markdown",
      "source": [
        "## Sign Language Digits With NumPy\n",
        "Sign Language Digits dataset contains 5,000 grayscale images in 10 categories. The images show individual articles of hand sign at low resolution (28 by 28 pixels), as seen here:\n",
        "\n",
        "<table>\n",
        "  <tr><td>\n",
        "    <img src=\"https://www.researchgate.net/publication/344389112/figure/fig8/AS:941467451260937@1601474740275/Sample-images-from-ASL-with-digits-dataset.png\"\n",
        "         alt=\"Fashion MNIST sprite\"  width=\"600\">\n",
        "  </td></tr>\n",
        "  \n",
        "</table>\n",
        "\n"
      ],
      "metadata": {
        "id": "JLkWLC8f3HZI"
      }
    },
    {
      "cell_type": "markdown",
      "source": [
        "\n",
        "\n",
        "The images are 28x28 NumPy arrays, with pixel values ranging between 0 and 255. The *labels* are an array of numbers ranging from '0' to '9'. These correspond to the *class* of hand sign digit the image represents:\n",
        "\n",
        "<table>\n",
        "  <tr>\n",
        "    <th>Label</th>\n",
        "    <th>Class</th>\n",
        "  </tr>\n",
        "  <tr>\n",
        "    <td>0</td>\n",
        "    <td>Hand Sign Zero</td>\n",
        "  </tr>\n",
        "  <tr>\n",
        "    <td>1</td>\n",
        "    <td>Hand Sign One</td>\n",
        "  </tr>\n",
        "    <tr>\n",
        "    <td>2</td>\n",
        "    <td>Hand Sign Two</td>\n",
        "  </tr>\n",
        "    <tr>\n",
        "    <td>3</td>\n",
        "    <td>Hand Sign Three</td>\n",
        "  </tr>\n",
        "    <tr>\n",
        "    <td>4</td>\n",
        "    <td>Hand Sign Four</td>\n",
        "  </tr>\n",
        "    <tr>\n",
        "    <td>5</td>\n",
        "    <td>Hand Sign Five</td>\n",
        "  </tr>\n",
        "    <tr>\n",
        "    <td>6</td>\n",
        "    <td>Hand Sign Six</td>\n",
        "  </tr>\n",
        "    <tr>\n",
        "    <td>7</td>\n",
        "    <td>Hand Sign Seven</td>\n",
        "  </tr>\n",
        "    <tr>\n",
        "    <td>8</td>\n",
        "    <td>Hand Sign Eight</td>\n",
        "  </tr>\n",
        "    <tr>\n",
        "    <td>9</td>\n",
        "    <td>Hand Sign Nine</td>\n",
        "  </tr>\n",
        "</table>\n",
        "\n",
        "<br>\n",
        "\n",
        "# Goodluck!"
      ],
      "metadata": {
        "id": "WiRxNFCn3Vxd"
      }
    },
    {
      "cell_type": "markdown",
      "source": [
        "#Neural Network in plain NumPy"
      ],
      "metadata": {
        "collapsed": false,
        "id": "4K84YZ_QU8Fv"
      }
    },
    {
      "cell_type": "markdown",
      "source": [
        "## Import Libraries"
      ],
      "metadata": {
        "id": "QReFpU112hLT"
      }
    },
    {
      "cell_type": "code",
      "source": [
        "import numpy as np\n",
        "import matplotlib\n",
        "import matplotlib.pyplot as plt\n",
        "from sklearn.datasets import fetch_openml\n",
        "from sklearn.metrics import classification_report, confusion_matrix, accuracy_score\n",
        "import seaborn as sns"
      ],
      "metadata": {
        "pycharm": {
          "name": "#%%\n"
        },
        "id": "tLOHjUiFU8Fv"
      },
      "execution_count": 1,
      "outputs": []
    },
    {
      "cell_type": "markdown",
      "source": [
        "## Dwonload Dataset"
      ],
      "metadata": {
        "id": "D5MsCpUv2tuj"
      }
    },
    {
      "cell_type": "code",
      "source": [
        "%%capture\n",
        "!pip install ipython-autotime\n",
        "!pip install -U --no-cache-dir gdown --pre\n",
        "!gdown --id 1-0fhqH8tXKPb60C_b4aUHT7f-J4O6Ezq\n",
        "%load_ext autotime"
      ],
      "metadata": {
        "id": "SiM-d_4cV1aZ",
        "colab": {
          "base_uri": "https://localhost:8080/"
        },
        "outputId": "ee1c5574-9605-4c89-b771-7e70eb3e2b4d"
      },
      "execution_count": 2,
      "outputs": [
        {
          "output_type": "stream",
          "name": "stdout",
          "text": [
            "time: 543 µs (started: 2024-12-23 14:48:37 +00:00)\n"
          ]
        }
      ]
    },
    {
      "cell_type": "markdown",
      "source": [
        "Loading the dataset as NumPy arrays:\n",
        "\n",
        "* The `dataset` file is a NumPy array containing the image pixles. As you can see, it includes 5,000 rows for each image and 784 columns for each pixel in the image (28x28).\n",
        "* The `labels` file is a NumPy array containing the images labels. As you can see, it includes 5,000 rows for each image corresponding to the dataset."
      ],
      "metadata": {
        "id": "uj30jTHwXNXp"
      }
    },
    {
      "cell_type": "code",
      "source": [
        "loaded_data = np.load('/content/dataset_labels.npz')\n",
        "X, y = loaded_data['dataset'], loaded_data['labels']\n",
        "print(f'Dataset shape: {X.shape}\\nLabels shape: {y.shape}')"
      ],
      "metadata": {
        "id": "nbzv9ZYA2pyW",
        "colab": {
          "base_uri": "https://localhost:8080/"
        },
        "outputId": "5458b5b8-8e9f-4596-d96c-1e4b512612b6"
      },
      "execution_count": 3,
      "outputs": [
        {
          "output_type": "stream",
          "name": "stdout",
          "text": [
            "Dataset shape: (5000, 784)\n",
            "Labels shape: (5000,)\n",
            "time: 51.2 ms (started: 2024-12-23 14:48:37 +00:00)\n"
          ]
        }
      ]
    },
    {
      "cell_type": "markdown",
      "metadata": {
        "id": "GPBGGKtSoVpU"
      },
      "source": [
        "## Data preprocessing (10%)"
      ]
    },
    {
      "cell_type": "markdown",
      "metadata": {
        "id": "LZfq8otp-wXY"
      },
      "source": [
        "### Feature scaling"
      ]
    },
    {
      "cell_type": "code",
      "metadata": {
        "id": "7MZtZIzzDIKe",
        "colab": {
          "base_uri": "https://localhost:8080/"
        },
        "outputId": "02d4b6de-e0d4-4054-c971-d5986a5b2903"
      },
      "source": [
        "examples = y.shape[0]\n",
        "y1 = y.reshape(1, examples)\n",
        "X1 = X / 255\n",
        "X1 = X1.T\n",
        "print(X1.shape)"
      ],
      "execution_count": 4,
      "outputs": [
        {
          "output_type": "stream",
          "name": "stdout",
          "text": [
            "(784, 5000)\n",
            "time: 12.6 ms (started: 2024-12-23 14:48:37 +00:00)\n"
          ]
        }
      ]
    },
    {
      "cell_type": "markdown",
      "metadata": {
        "id": "i6K01j7A_Z4W"
      },
      "source": [
        "### Select two classes"
      ]
    },
    {
      "cell_type": "code",
      "metadata": {
        "id": "7OuPZ0o8DNWq",
        "colab": {
          "base_uri": "https://localhost:8080/"
        },
        "outputId": "e6017278-8b12-490f-97ef-f3b24afe275e"
      },
      "source": [
        "#TODO: select two classes (for example 2-Pullover and 4-Coat)\n",
        "# Use y1 instead of Y since that's your original labels\n",
        "print(\"Original label values:\", np.unique(y1))\n",
        "\n",
        "# Create masks from original labels y1\n",
        "class_6_indices = (y1[0] == '6')  # Use y1[0] since y1 is shape (1, 5000)\n",
        "class_7_indices = (y1[0] == '7')  # Use y1[0] since y1 is shape (1, 5000)\n",
        "\n",
        "# Select data and labels\n",
        "X = X1[:, class_6_indices | class_7_indices]\n",
        "Y = y1[:, class_6_indices | class_7_indices]\n",
        "\n",
        "# Convert to binary labels\n",
        "Y = (Y == '7').astype(int)\n",
        "\n",
        "print(\"\\nAfter selection:\")\n",
        "print(\"X shape:\", X.shape)\n",
        "print(\"Y shape:\", Y.shape)\n",
        "print(\"Binary label distribution:\", np.unique(Y, return_counts=True))"
      ],
      "execution_count": 5,
      "outputs": [
        {
          "output_type": "stream",
          "name": "stdout",
          "text": [
            "Original label values: ['0' '1' '2' '3' '4' '5' '6' '7' '8' '9']\n",
            "\n",
            "After selection:\n",
            "X shape: (784, 1000)\n",
            "Y shape: (1, 1000)\n",
            "Binary label distribution: (array([0, 1]), array([500, 500]))\n",
            "time: 12.3 ms (started: 2024-12-23 14:48:37 +00:00)\n"
          ]
        }
      ]
    },
    {
      "cell_type": "markdown",
      "metadata": {
        "id": "cn5UPcIQH2jS"
      },
      "source": [
        "### Split the data into Train set and Test set"
      ]
    },
    {
      "cell_type": "code",
      "metadata": {
        "id": "FBUI2DZmhd0y",
        "colab": {
          "base_uri": "https://localhost:8080/"
        },
        "outputId": "273e3485-ae5e-40a8-a2b8-22052ce1cda2"
      },
      "source": [
        "# TODO: Split the data into Train set and Test set (The use of libraries other than Numpy is strictly prohibited)\n",
        "from sklearn.utils import shuffle\n",
        "\n",
        "X = X.T  # transpose\n",
        "Y = Y.ravel()  # flat multi dimension array into 1 dimensional\n",
        "\n",
        "# data balance before split\n",
        "print(\"\\nCheck data balance before split:\")\n",
        "print(\"Original Y values distribution:\", np.unique(Y, return_counts=True))\n",
        "\n",
        "# Get indices for each class\n",
        "class_0_indices = np.where(Y == 0)[0]\n",
        "class_1_indices = np.where(Y == 1)[0]\n",
        "\n",
        "# Split each class separately (80% train, 20% test)\n",
        "train_0 = class_0_indices[:int(0.8 * len(class_0_indices))] #select all elements from start until index at 80% of the length\n",
        "test_0 = class_0_indices[int(0.8 * len(class_0_indices)):] #select all elements from index at 80% of the length until end\n",
        "train_1 = class_1_indices[:int(0.8 * len(class_1_indices))]\n",
        "test_1 = class_1_indices[int(0.8 * len(class_1_indices)):]\n",
        "\n",
        "# Combine indices\n",
        "train_indices = np.concatenate([train_0, train_1])\n",
        "test_indices = np.concatenate([test_0, test_1])\n",
        "\n",
        "# Create train and test sets\n",
        "X_train = X[train_indices].T\n",
        "X_test = X[test_indices].T\n",
        "Y_train = Y[train_indices].reshape(-1, 1)\n",
        "Y_test = Y[test_indices].reshape(-1, 1)\n",
        "\n",
        "print(\"\\nClass distribution in training set:\")\n",
        "print(\"Y_train unique values and counts:\", np.unique(Y_train, return_counts=True))\n",
        "print(\"\\nClass distribution in test set:\")\n",
        "print(\"Y_test unique values and counts:\", np.unique(Y_test, return_counts=True))"
      ],
      "execution_count": 6,
      "outputs": [
        {
          "output_type": "stream",
          "name": "stdout",
          "text": [
            "\n",
            "Check data balance before split:\n",
            "Original Y values distribution: (array([0, 1]), array([500, 500]))\n",
            "\n",
            "Class distribution in training set:\n",
            "Y_train unique values and counts: (array([0, 1]), array([400, 400]))\n",
            "\n",
            "Class distribution in test set:\n",
            "Y_test unique values and counts: (array([0, 1]), array([100, 100]))\n",
            "time: 8.68 ms (started: 2024-12-23 14:48:37 +00:00)\n"
          ]
        }
      ]
    },
    {
      "cell_type": "code",
      "metadata": {
        "id": "wkLl0PSyDR9S",
        "colab": {
          "base_uri": "https://localhost:8080/",
          "height": 441
        },
        "outputId": "143912b7-4e78-4aac-81fe-848e4e755394"
      },
      "source": [
        "# Test yourself (Check that the classes you have selected are actually displayed)\n",
        "%matplotlib inline\n",
        "from numpy import random\n",
        "\n",
        "i = random.randint(100)\n",
        "plt.imshow(X_train[:,i].reshape(28,28), cmap = matplotlib.cm.binary)\n",
        "plt.axis(\"off\")\n",
        "plt.show()\n",
        "Y_train[i,0]"
      ],
      "execution_count": 7,
      "outputs": [
        {
          "output_type": "display_data",
          "data": {
            "text/plain": [
              "<Figure size 640x480 with 1 Axes>"
            ],
            "image/png": "[encoded data removed]"
          },
          "metadata": {}
        },
        {
          "output_type": "execute_result",
          "data": {
            "text/plain": [
              "0"
            ]
          },
          "metadata": {},
          "execution_count": 7
        },
        {
          "output_type": "stream",
          "name": "stdout",
          "text": [
            "time: 126 ms (started: 2024-12-23 14:48:37 +00:00)\n"
          ]
        }
      ]
    },
    {
      "cell_type": "markdown",
      "metadata": {
        "id": "Q81OW5M7oCWZ"
      },
      "source": [
        "## Activation functions (10%)"
      ]
    },
    {
      "cell_type": "code",
      "source": [],
      "metadata": {
        "id": "AE4gzqu4BnDT",
        "colab": {
          "base_uri": "https://localhost:8080/"
        },
        "outputId": "038e80fb-e046-4af9-d60d-41069aaa9443"
      },
      "execution_count": 7,
      "outputs": [
        {
          "output_type": "stream",
          "name": "stdout",
          "text": [
            "time: 144 ms (started: 2024-12-23 14:48:37 +00:00)\n"
          ]
        }
      ]
    },
    {
      "cell_type": "code",
      "metadata": {
        "id": "nxruxXBsDmP-",
        "colab": {
          "base_uri": "https://localhost:8080/"
        },
        "outputId": "c22895ee-0db7-47b4-84f1-de60c46b4a84"
      },
      "source": [
        "#TODO: Sigmoid activation function\n",
        "def sigmoid(z):\n",
        "    return 1 / (1 + np.exp(-z))"
      ],
      "execution_count": 8,
      "outputs": [
        {
          "output_type": "stream",
          "name": "stdout",
          "text": [
            "time: 510 µs (started: 2024-12-23 14:48:37 +00:00)\n"
          ]
        }
      ]
    },
    {
      "cell_type": "markdown",
      "metadata": {
        "id": "OBIAUcVboOG9"
      },
      "source": [
        "## Loss Function (10%)\n",
        "\n",
        "The BCE Loss function embodies the idea that the neural network should incur a substantial penalty (i.e., Loss tending toward infinity) when the predicted probability diverges significantly from the actual label of the training example. Conversely, the Loss should be zero (Loss = 0) when the predicted probability aligns perfectly with the label of the training example. In simpler terms, the BCE Loss should be zero in the following two situations:\n",
        "\n",
        "- When the example has a positive label (${y} = 1$), the neural network should be entirely confident that the example belongs to the positive class, i.e., ($\\hat{p} = 1 $).\n",
        "- When the example has a negative label (${y} = 0$), the neural network should be entirely confident that the example does not belong to the positive class, i.e., ($\\hat{p} = 0 $).\n",
        "\n",
        "**It's important to note that when working with computers, extremely high or low values can sometimes be unmanageable and might even lead to system crashes. To address this, you must be aware of the range of values that cause the logarithm to yield infinity or negative infinity. Ensure you handle these edge cases within your function.**\n"
      ]
    },
    {
      "cell_type": "code",
      "metadata": {
        "id": "U0i2o9_KDUdQ",
        "colab": {
          "base_uri": "https://localhost:8080/"
        },
        "outputId": "cd38d4c3-91c1-428a-fbbc-88e4fbf242d1"
      },
      "source": [
        "#TODO: Binary cross entropy\n",
        "def log_loss(y_hat, y):\n",
        "    '''\n",
        "    Logistic loss, assuming a single value in y_hat and y.\n",
        "    '''\n",
        "    epsilon = 1e-15  # avoid log(0)\n",
        "    y_hat = np.clip(y_hat, epsilon, 1 - epsilon)\n",
        "    return float(-y * np.log(y_hat) - (1 - y) * np.log(1 - y_hat))"
      ],
      "execution_count": 9,
      "outputs": [
        {
          "output_type": "stream",
          "name": "stdout",
          "text": [
            "time: 493 µs (started: 2024-12-23 14:48:37 +00:00)\n"
          ]
        }
      ]
    },
    {
      "cell_type": "markdown",
      "metadata": {
        "id": "WY9DQPrJmvHZ"
      },
      "source": [
        "## NN Hyper Parameters"
      ]
    },
    {
      "cell_type": "code",
      "metadata": {
        "id": "qGCU_QYRnJap",
        "colab": {
          "base_uri": "https://localhost:8080/"
        },
        "outputId": "f312ddd5-8035-4818-c886-ef9e392cf041"
      },
      "source": [
        "input_layer = X_train.shape[0] # 28X28 = 784\n",
        "hidden_layer = 64\n",
        "learning_rate = 0.01\n",
        "epochs = 40"
      ],
      "execution_count": 10,
      "outputs": [
        {
          "output_type": "stream",
          "name": "stdout",
          "text": [
            "time: 370 µs (started: 2024-12-23 14:48:37 +00:00)\n"
          ]
        }
      ]
    },
    {
      "cell_type": "markdown",
      "metadata": {
        "id": "M6SdHpc2m3vV"
      },
      "source": [
        "## Weight and Bias Initialization"
      ]
    },
    {
      "cell_type": "code",
      "metadata": {
        "id": "IVRoMGxTnLZI",
        "colab": {
          "base_uri": "https://localhost:8080/"
        },
        "outputId": "63653885-d613-4b39-c7af-658aadc9482c"
      },
      "source": [
        "W1 = np.random.randn(hidden_layer, input_layer)\n",
        "b1 = np.zeros((hidden_layer, 1))\n",
        "W2 = np.random.randn(1, hidden_layer)\n",
        "b2 = np.zeros((1, 1))\n",
        "\n",
        "print(W1.shape)\n",
        "print(b1.shape)\n",
        "print(W2.shape)\n",
        "print(b2.shape)"
      ],
      "execution_count": 11,
      "outputs": [
        {
          "output_type": "stream",
          "name": "stdout",
          "text": [
            "(64, 784)\n",
            "(64, 1)\n",
            "(1, 64)\n",
            "(1, 1)\n",
            "time: 3.9 ms (started: 2024-12-23 14:48:37 +00:00)\n"
          ]
        }
      ]
    },
    {
      "cell_type": "markdown",
      "metadata": {
        "id": "fp-IaWECn6Hu"
      },
      "source": [
        "## Training (30%)"
      ]
    },
    {
      "cell_type": "code",
      "metadata": {
        "id": "4tdlcCGLDo7F",
        "colab": {
          "base_uri": "https://localhost:8080/"
        },
        "outputId": "8d263922-1b14-4836-a7c9-fc30faf4cd8b"
      },
      "source": [
        "X = X_train\n",
        "Y = Y_train\n",
        "loss_list = []\n",
        "epoch_list = []\n",
        "num_of_examples = X.shape[1]\n",
        "\n",
        "for i in range(epochs):\n",
        "  avg_epoch_loss = 0\n",
        "  for j in range(num_of_examples):\n",
        "    # TODO :  Forward propagation\n",
        "\n",
        "    Z1 = np.matmul(W1, X[:,j].reshape(-1,1)) + b1\n",
        "    A1 = sigmoid(Z1)\n",
        "    Z2 = np.matmul(W2, A1) + b2\n",
        "    A2 = sigmoid(Z2)\n",
        "    Yout = Y[j].reshape(-1,1)\n",
        "\n",
        "    # TODO: Compute loss\n",
        "    loss = log_loss( A2, Yout)\n",
        "    avg_epoch_loss = avg_epoch_loss + loss\n",
        "\n",
        "    # # TODO: Back propagation\n",
        "    dZ2 = (A2-Yout)\n",
        "    dW2 = np.matmul(dZ2, A1.T)\n",
        "    db2 = np.sum(dZ2, axis=1, keepdims=True)\n",
        "\n",
        "    dA1 = np.matmul(W2.T, dZ2)\n",
        "    dZ1 = dA1 * (A1 * (1-A1))\n",
        "    dW1 = np.matmul(dZ1, X[:,j].reshape(1,-1))\n",
        "    db1 = np.sum(dZ1, axis=1, keepdims=True)\n",
        "\n",
        "    # TODO: Update weights\n",
        "    W2 = W2 - learning_rate * dW2\n",
        "    b2 = b2 - learning_rate * db2\n",
        "    W1 = W1 - learning_rate * dW1\n",
        "    b1 = b1 - learning_rate * db1\n",
        "\n",
        "  avg_epoch_loss = avg_epoch_loss/num_of_examples\n",
        "  loss_list.append(avg_epoch_loss)\n",
        "  epoch_list.append(i)\n",
        "  print(\"Epoch\", i,\" Loss:\", avg_epoch_loss)"
      ],
      "execution_count": 12,
      "outputs": [
        {
          "output_type": "stream",
          "name": "stderr",
          "text": [
            "<ipython-input-9-7d5c825324cc>:8: DeprecationWarning: Conversion of an array with ndim > 0 to a scalar is deprecated, and will error in future. Ensure you extract a single element from your array before performing this operation. (Deprecated NumPy 1.25.)\n",
            "  return float(-y * np.log(y_hat) - (1 - y) * np.log(1 - y_hat))\n"
          ]
        },
        {
          "output_type": "stream",
          "name": "stdout",
          "text": [
            "Epoch 0  Loss: 0.2083604687529118\n",
            "Epoch 1  Loss: 0.2804714239480839\n",
            "Epoch 2  Loss: 0.2080881602809033\n",
            "Epoch 3  Loss: 0.16866493667831076\n",
            "Epoch 4  Loss: 0.1448189331699978\n",
            "Epoch 5  Loss: 0.12859577458934462\n",
            "Epoch 6  Loss: 0.11653192936409422\n",
            "Epoch 7  Loss: 0.10700894299671336\n",
            "Epoch 8  Loss: 0.09921116112302064\n",
            "Epoch 9  Loss: 0.09268816578088789\n",
            "Epoch 10  Loss: 0.08716518677902851\n",
            "Epoch 11  Loss: 0.08244579015882263\n",
            "Epoch 12  Loss: 0.07836942178274442\n",
            "Epoch 13  Loss: 0.07480640081442161\n",
            "Epoch 14  Loss: 0.07165859610300589\n",
            "Epoch 15  Loss: 0.06885296296741346\n",
            "Epoch 16  Loss: 0.06633272519686362\n",
            "Epoch 17  Loss: 0.06405099550913854\n",
            "Epoch 18  Loss: 0.06196752318737297\n",
            "Epoch 19  Loss: 0.06004753683761779\n",
            "Epoch 20  Loss: 0.05826148834250573\n",
            "Epoch 21  Loss: 0.05658491560629198\n",
            "Epoch 22  Loss: 0.0549981373572767\n",
            "Epoch 23  Loss: 0.05348576944884491\n",
            "Epoch 24  Loss: 0.05203613612201248\n",
            "Epoch 25  Loss: 0.0506406569111945\n",
            "Epoch 26  Loss: 0.049293269077136416\n",
            "Epoch 27  Loss: 0.047989911410533555\n",
            "Epoch 28  Loss: 0.046728060795162306\n",
            "Epoch 29  Loss: 0.0455062916861941\n",
            "Epoch 30  Loss: 0.04432383260744368\n",
            "Epoch 31  Loss: 0.04318012665004404\n",
            "Epoch 32  Loss: 0.042074449165523345\n",
            "Epoch 33  Loss: 0.04100565985682809\n",
            "Epoch 34  Loss: 0.03997213905200878\n",
            "Epoch 35  Loss: 0.03897189100085977\n",
            "Epoch 36  Loss: 0.038002739478729904\n",
            "Epoch 37  Loss: 0.03706253039965994\n",
            "Epoch 38  Loss: 0.03614928596228718\n",
            "Epoch 39  Loss: 0.035261293185285744\n",
            "time: 29.1 s (started: 2024-12-23 14:48:37 +00:00)\n"
          ]
        }
      ]
    },
    {
      "cell_type": "markdown",
      "metadata": {
        "id": "TdgCk97534-B"
      },
      "source": [
        "### Loss Visualization"
      ]
    },
    {
      "cell_type": "code",
      "metadata": {
        "id": "RFo9NN5Q31X8",
        "colab": {
          "base_uri": "https://localhost:8080/",
          "height": 484
        },
        "outputId": "869e7278-80c5-4379-b874-2abdb2a0c735"
      },
      "source": [
        "import matplotlib.pyplot as plt\n",
        "plt.xlabel('Epoch Number')\n",
        "plt.ylabel(\"Loss\")\n",
        "plt.plot(epoch_list, loss_list)"
      ],
      "execution_count": 13,
      "outputs": [
        {
          "output_type": "execute_result",
          "data": {
            "text/plain": [
              "[<matplotlib.lines.Line2D at 0x7e81e9596560>]"
            ]
          },
          "metadata": {},
          "execution_count": 13
        },
        {
          "output_type": "display_data",
          "data": {
            "text/plain": [
              "<Figure size 640x480 with 1 Axes>"
            ],
            "image/png": "[encoded data removed]"
          },
          "metadata": {}
        },
        {
          "output_type": "stream",
          "name": "stdout",
          "text": [
            "time: 201 ms (started: 2024-12-23 14:49:06 +00:00)\n"
          ]
        }
      ]
    },
    {
      "cell_type": "markdown",
      "source": [
        "## Results"
      ],
      "metadata": {
        "id": "5HV5g7j92Xfn"
      }
    },
    {
      "cell_type": "markdown",
      "metadata": {
        "id": "raBFclM5ploH"
      },
      "source": [
        "### Test your performance (20%)"
      ]
    },
    {
      "cell_type": "code",
      "metadata": {
        "id": "flfh-luxDs7Z",
        "colab": {
          "base_uri": "https://localhost:8080/",
          "height": 729
        },
        "outputId": "dc72c7d7-fdac-4022-ea85-7f89cc54ed1e"
      },
      "source": [
        "#TODO: Forward batch of examples\n",
        "X = X_test\n",
        "Y = Y_test\n",
        "\n",
        "Z1 = np.matmul(W1, X_test) + b1\n",
        "A1 = sigmoid(Z1)\n",
        "Z2 = np.matmul(W2, A1) + b2\n",
        "A2 = sigmoid(Z2)\n",
        "\n",
        "predictions = np.zeros((1,Y.shape[0]))\n",
        "labels = np.zeros((1,Y.shape[0]))\n",
        "\n",
        "# Check your predictions against the test's labels\n",
        "for i in range(Y.shape[0]):\n",
        "  if (A2[0,i] > 0.5):\n",
        "    predictions[0,i] = 1\n",
        "  labels[0,i] = Y[i,0]\n",
        "\n",
        "# Calculate confusion matrix\n",
        "cm = confusion_matrix(predictions.T, labels.T)\n",
        "\n",
        "# Calculate accuracy\n",
        "accuracy = accuracy_score(labels.T, predictions.T)\n",
        "print(f\"Accuracy: {accuracy * 100:.2f} %\")\n",
        "\n",
        "# Visualize confusion matrix\n",
        "plt.figure(figsize=(8,6))\n",
        "sns.heatmap(cm, annot=True, fmt='d', cmap='Blues',\n",
        "            xticklabels=['Predicted Negative', 'Predicted Positive'],\n",
        "            yticklabels=['Actual Negative', 'Actual Positive'])\n",
        "plt.title('Confusion Matrix')\n",
        "plt.xlabel('Predicted Label')\n",
        "plt.ylabel('True Label')\n",
        "plt.tight_layout()\n",
        "plt.show()\n",
        "\n",
        "# Print confusion matrix details\n",
        "print(\"Confusion Matrix:\")\n",
        "print(f\"True Negatives (TN): {cm[0,0]}\")\n",
        "print(f\"False Positives (FP): {cm[0,1]}\")\n",
        "print(f\"False Negatives (FN): {cm[1,0]}\")\n",
        "print(f\"True Positives (TP): {cm[1,1]}\")"
      ],
      "execution_count": 17,
      "outputs": [
        {
          "output_type": "stream",
          "name": "stdout",
          "text": [
            "Accuracy: 92.00 %\n"
          ]
        },
        {
          "output_type": "display_data",
          "data": {
            "text/plain": [
              "<Figure size 800x600 with 2 Axes>"
            ],
            "image/png": "[encoded data removed]"
          },
          "metadata": {}
        },
        {
          "output_type": "stream",
          "name": "stdout",
          "text": [
            "Confusion Matrix:\n",
            "True Negatives (TN): 84\n",
            "False Positives (FP): 0\n",
            "False Negatives (FN): 16\n",
            "True Positives (TP): 100\n",
            "time: 705 ms (started: 2024-12-23 14:52:17 +00:00)\n"
          ]
        }
      ]
    },
    {
      "cell_type": "markdown",
      "source": [
        "### Visualize the results"
      ],
      "metadata": {
        "id": "7FtZr0EQBlcm"
      }
    },
    {
      "cell_type": "code",
      "metadata": {
        "id": "gAj_5W2wVUrI",
        "colab": {
          "base_uri": "https://localhost:8080/",
          "height": 1000
        },
        "outputId": "b1759e53-81f2-4dc8-bd73-299f4ca61f69"
      },
      "source": [
        "#TODO: SHOW VISUALLY RESULTS ON 10 TEST EXAMPLES\n",
        "%matplotlib inline\n",
        "from numpy import random\n",
        "for example in range(10):\n",
        "  i = random.randint(200)\n",
        "  plt.imshow(X_test[:,i].reshape(28,28), cmap = matplotlib.cm.binary)\n",
        "  plt.axis(\"off\")\n",
        "  plt.show()\n",
        "  Y_test[i,0]\n",
        "\n",
        "  # TODO :  Forward propagation\n",
        "  Z1 = np.matmul(W1,X_test[:,i])\n",
        "  A1 = sigmoid(Z1)\n",
        "  Z2 = np.matmul(W2, A1) + b2\n",
        "  A2 = sigmoid(Z2)\n",
        "  Yout = Y[i,0]\n",
        "  print(\"Real=\", Y_test[i,0], \"Predicted=\",A2)"
      ],
      "execution_count": 18,
      "outputs": [
        {
          "output_type": "display_data",
          "data": {
            "text/plain": [
              "<Figure size 640x480 with 1 Axes>"
            ],
            "image/png": "[encoded data removed]"
          },
          "metadata": {}
        },
        {
          "output_type": "stream",
          "name": "stdout",
          "text": [
            "Real= 0 Predicted= [[0.15522307]]\n"
          ]
        },
        {
          "output_type": "display_data",
          "data": {
            "text/plain": [
              "<Figure size 640x480 with 1 Axes>"
            ],
            "image/png": "[encoded data removed]"
          },
          "metadata": {}
        },
        {
          "output_type": "stream",
          "name": "stdout",
          "text": [
            "Real= 0 Predicted= [[0.31157897]]\n"
          ]
        },
        {
          "output_type": "display_data",
          "data": {
            "text/plain": [
              "<Figure size 640x480 with 1 Axes>"
            ],
            "image/png": "[encoded data removed]"
          },
          "metadata": {}
        },
        {
          "output_type": "stream",
          "name": "stdout",
          "text": [
            "Real= 1 Predicted= [[0.98735733]]\n"
          ]
        },
        {
          "output_type": "display_data",
          "data": {
            "text/plain": [
              "<Figure size 640x480 with 1 Axes>"
            ],
            "image/png": "[encoded data removed]"
          },
          "metadata": {}
        },
        {
          "output_type": "stream",
          "name": "stdout",
          "text": [
            "Real= 1 Predicted= [[0.96267891]]\n"
          ]
        },
        {
          "output_type": "display_data",
          "data": {
            "text/plain": [
              "<Figure size 640x480 with 1 Axes>"
            ],
            "image/png": "[encoded data removed]"
          },
          "metadata": {}
        },
        {
          "output_type": "stream",
          "name": "stdout",
          "text": [
            "Real= 0 Predicted= [[0.02585605]]\n"
          ]
        },
        {
          "output_type": "display_data",
          "data": {
            "text/plain": [
              "<Figure size 640x480 with 1 Axes>"
            ],
            "image/png": "[encoded data removed]"
          },
          "metadata": {}
        },
        {
          "output_type": "stream",
          "name": "stdout",
          "text": [
            "Real= 0 Predicted= [[0.17832458]]\n"
          ]
        },
        {
          "output_type": "display_data",
          "data": {
            "text/plain": [
              "<Figure size 640x480 with 1 Axes>"
            ],
            "image/png": "[encoded data removed]"
          },
          "metadata": {}
        },
        {
          "output_type": "stream",
          "name": "stdout",
          "text": [
            "Real= 1 Predicted= [[0.99993802]]\n"
          ]
        },
        {
          "output_type": "display_data",
          "data": {
            "text/plain": [
              "<Figure size 640x480 with 1 Axes>"
            ],
            "image/png": "[encoded data removed]"
          },
          "metadata": {}
        },
        {
          "output_type": "stream",
          "name": "stdout",
          "text": [
            "Real= 0 Predicted= [[0.03232538]]\n"
          ]
        },
        {
          "output_type": "display_data",
          "data": {
            "text/plain": [
              "<Figure size 640x480 with 1 Axes>"
            ],
            "image/png": "[encoded data removed]"
          },
          "metadata": {}
        },
        {
          "output_type": "stream",
          "name": "stdout",
          "text": [
            "Real= 0 Predicted= [[0.39218169]]\n"
          ]
        },
        {
          "output_type": "display_data",
          "data": {
            "text/plain": [
              "<Figure size 640x480 with 1 Axes>"
            ],
            "image/png": "[encoded data removed]"
          },
          "metadata": {}
        },
        {
          "output_type": "stream",
          "name": "stdout",
          "text": [
            "Real= 0 Predicted= [[0.05528766]]\n",
            "time: 710 ms (started: 2024-12-23 14:52:26 +00:00)\n"
          ]
        }
      ]
    }
  ]
}